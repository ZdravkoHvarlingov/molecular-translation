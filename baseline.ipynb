{
 "cells": [
  {
   "cell_type": "code",
   "execution_count": 1,
   "id": "19dc8199-8301-4749-b2c1-c4d3343962e1",
   "metadata": {},
   "outputs": [],
   "source": [
    "import os\n",
    "import pandas as pd\n",
    "import matplotlib.pyplot as plt\n",
    "import matplotlib.image as mpimg\n",
    "import numpy as np\n",
    "\n",
    "from tqdm import tqdm\n",
    "from collections import Counter\n",
    " \n",
    "import torch\n",
    "import torch.nn as nn\n",
    "import torch.nn.functional as F\n",
    "import torch.optim as optim\n",
    " \n",
    "import torchvision.models as models\n",
    "import torchvision.transforms as T\n",
    " \n",
    "from torch.nn.utils.rnn import pad_sequence\n",
    "from torch.utils.data import DataLoader, Dataset\n",
    "import torchvision\n",
    "from PIL import Image\n",
    "import PIL\n",
    "from torchvision.transforms.transforms import Compose, Normalize, Resize, ToTensor, RandomHorizontalFlip, RandomCrop"
   ]
  },
  {
   "cell_type": "code",
   "execution_count": 2,
   "id": "3d6d2c4a-6ebb-4d7d-b03f-1f35561d066a",
   "metadata": {},
   "outputs": [
    {
     "data": {
      "text/html": [
       "<div>\n",
       "<style scoped>\n",
       "    .dataframe tbody tr th:only-of-type {\n",
       "        vertical-align: middle;\n",
       "    }\n",
       "\n",
       "    .dataframe tbody tr th {\n",
       "        vertical-align: top;\n",
       "    }\n",
       "\n",
       "    .dataframe thead th {\n",
       "        text-align: right;\n",
       "    }\n",
       "</style>\n",
       "<table border=\"1\" class=\"dataframe\">\n",
       "  <thead>\n",
       "    <tr style=\"text-align: right;\">\n",
       "      <th></th>\n",
       "      <th>image_id</th>\n",
       "      <th>InChI</th>\n",
       "      <th>layers_count</th>\n",
       "      <th>chemical</th>\n",
       "      <th>image_url</th>\n",
       "      <th>image_size</th>\n",
       "      <th>image_width</th>\n",
       "      <th>image_height</th>\n",
       "    </tr>\n",
       "  </thead>\n",
       "  <tbody>\n",
       "    <tr>\n",
       "      <th>0</th>\n",
       "      <td>000011a64c74</td>\n",
       "      <td>InChI=1S/C13H20OS/c1-9(2)8-15-13-6-5-10(3)7-12...</td>\n",
       "      <td>4</td>\n",
       "      <td>C13H20OS</td>\n",
       "      <td>.\\bms-molecular-translation\\train\\0\\0\\0\\000011...</td>\n",
       "      <td>325x229</td>\n",
       "      <td>325</td>\n",
       "      <td>229</td>\n",
       "    </tr>\n",
       "    <tr>\n",
       "      <th>1</th>\n",
       "      <td>000019cc0cd2</td>\n",
       "      <td>InChI=1S/C21H30O4/c1-12(22)25-14-6-8-20(2)13(1...</td>\n",
       "      <td>7</td>\n",
       "      <td>C21H30O4</td>\n",
       "      <td>.\\bms-molecular-translation\\train\\0\\0\\0\\000019...</td>\n",
       "      <td>288x148</td>\n",
       "      <td>288</td>\n",
       "      <td>148</td>\n",
       "    </tr>\n",
       "    <tr>\n",
       "      <th>2</th>\n",
       "      <td>0000252b6d2b</td>\n",
       "      <td>InChI=1S/C24H23N5O4/c1-14-13-15(7-8-17(14)28-1...</td>\n",
       "      <td>4</td>\n",
       "      <td>C24H23N5O4</td>\n",
       "      <td>.\\bms-molecular-translation\\train\\0\\0\\0\\000025...</td>\n",
       "      <td>509x335</td>\n",
       "      <td>509</td>\n",
       "      <td>335</td>\n",
       "    </tr>\n",
       "    <tr>\n",
       "      <th>3</th>\n",
       "      <td>000026b49b7e</td>\n",
       "      <td>InChI=1S/C17H24N2O4S/c1-12(20)18-13(14-7-6-10-...</td>\n",
       "      <td>4</td>\n",
       "      <td>C17H24N2O4S</td>\n",
       "      <td>.\\bms-molecular-translation\\train\\0\\0\\0\\000026...</td>\n",
       "      <td>243x177</td>\n",
       "      <td>243</td>\n",
       "      <td>177</td>\n",
       "    </tr>\n",
       "    <tr>\n",
       "      <th>4</th>\n",
       "      <td>000026fc6c36</td>\n",
       "      <td>InChI=1S/C10H19N3O2S/c1-15-10(14)12-8-4-6-13(7...</td>\n",
       "      <td>4</td>\n",
       "      <td>C10H19N3O2S</td>\n",
       "      <td>.\\bms-molecular-translation\\train\\0\\0\\0\\000026...</td>\n",
       "      <td>294x112</td>\n",
       "      <td>294</td>\n",
       "      <td>112</td>\n",
       "    </tr>\n",
       "  </tbody>\n",
       "</table>\n",
       "</div>"
      ],
      "text/plain": [
       "       image_id                                              InChI  \\\n",
       "0  000011a64c74  InChI=1S/C13H20OS/c1-9(2)8-15-13-6-5-10(3)7-12...   \n",
       "1  000019cc0cd2  InChI=1S/C21H30O4/c1-12(22)25-14-6-8-20(2)13(1...   \n",
       "2  0000252b6d2b  InChI=1S/C24H23N5O4/c1-14-13-15(7-8-17(14)28-1...   \n",
       "3  000026b49b7e  InChI=1S/C17H24N2O4S/c1-12(20)18-13(14-7-6-10-...   \n",
       "4  000026fc6c36  InChI=1S/C10H19N3O2S/c1-15-10(14)12-8-4-6-13(7...   \n",
       "\n",
       "   layers_count     chemical  \\\n",
       "0             4     C13H20OS   \n",
       "1             7     C21H30O4   \n",
       "2             4   C24H23N5O4   \n",
       "3             4  C17H24N2O4S   \n",
       "4             4  C10H19N3O2S   \n",
       "\n",
       "                                           image_url image_size  image_width  \\\n",
       "0  .\\bms-molecular-translation\\train\\0\\0\\0\\000011...    325x229          325   \n",
       "1  .\\bms-molecular-translation\\train\\0\\0\\0\\000019...    288x148          288   \n",
       "2  .\\bms-molecular-translation\\train\\0\\0\\0\\000025...    509x335          509   \n",
       "3  .\\bms-molecular-translation\\train\\0\\0\\0\\000026...    243x177          243   \n",
       "4  .\\bms-molecular-translation\\train\\0\\0\\0\\000026...    294x112          294   \n",
       "\n",
       "   image_height  \n",
       "0           229  \n",
       "1           148  \n",
       "2           335  \n",
       "3           177  \n",
       "4           112  "
      ]
     },
     "execution_count": 2,
     "metadata": {},
     "output_type": "execute_result"
    }
   ],
   "source": [
    "df = pd.read_csv(\"extended_data.csv\")\n",
    "df.head()"
   ]
  },
  {
   "cell_type": "code",
   "execution_count": 3,
   "id": "86cda50d-c243-4110-b2ec-b212941d26fd",
   "metadata": {},
   "outputs": [
    {
     "name": "stdout",
     "output_type": "stream",
     "text": [
      "Image with idx: 1\n",
      "Image with idx: 2\n",
      "Image with idx: 3\n",
      "Image with idx: 4\n",
      "Image with idx: 5\n",
      "Image with idx: 6\n",
      "Image with idx: 7\n",
      "Image with idx: 8\n",
      "Image with idx: 9\n",
      "[1258, 2075, 2119, 2154, 3053]\n"
     ]
    }
   ],
   "source": [
    "sizes = []\n",
    "for idx, row in df[1:10].iterrows():\n",
    "  print(f\"Image with idx: {idx}\")\n",
    "  path = row['image_url']\n",
    "  size = os.path.getsize(path)\n",
    "  sizes.append(size)\n",
    "\n",
    "sizes.sort()\n",
    "print(sizes[-5:])"
   ]
  },
  {
   "cell_type": "code",
   "execution_count": 4,
   "id": "89d07450-0136-4ddf-865d-037010f78261",
   "metadata": {},
   "outputs": [
    {
     "data": {
      "text/plain": [
       "0     InChI=1S/C13H20OS/c1-9(2)8-15-13-6-5-10(3)7-12...\n",
       "1     InChI=1S/C21H30O4/c1-12(22)25-14-6-8-20(2)13(1...\n",
       "2     InChI=1S/C24H23N5O4/c1-14-13-15(7-8-17(14)28-1...\n",
       "3     InChI=1S/C17H24N2O4S/c1-12(20)18-13(14-7-6-10-...\n",
       "4     InChI=1S/C10H19N3O2S/c1-15-10(14)12-8-4-6-13(7...\n",
       "                            ...                        \n",
       "95    InChI=1S/C35H47ClN6O2/c1-22-18-25(20-27(36)19-...\n",
       "96    InChI=1S/C10H13F2N3OS/c11-8-2-1-7(9(12)5-8)6-1...\n",
       "97    InChI=1S/C16H16Cl2N2O3/c17-12-3-1-11(2-4-12)13...\n",
       "98    InChI=1S/C17H14N4/c1-2-9-21-12-14(20-17(21)6-1...\n",
       "99    InChI=1S/C27H28N4O2S/c1-20-11-10-12-21(2)26(20...\n",
       "Name: InChI, Length: 100, dtype: object"
      ]
     },
     "execution_count": 4,
     "metadata": {},
     "output_type": "execute_result"
    }
   ],
   "source": [
    "df[:100].InChI"
   ]
  },
  {
   "cell_type": "code",
   "execution_count": 5,
   "id": "67aab04c-a53e-4546-ae4b-ba1c4e2c3a90",
   "metadata": {},
   "outputs": [
    {
     "data": {
      "text/html": [
       "<div>\n",
       "<style scoped>\n",
       "    .dataframe tbody tr th:only-of-type {\n",
       "        vertical-align: middle;\n",
       "    }\n",
       "\n",
       "    .dataframe tbody tr th {\n",
       "        vertical-align: top;\n",
       "    }\n",
       "\n",
       "    .dataframe thead th {\n",
       "        text-align: right;\n",
       "    }\n",
       "</style>\n",
       "<table border=\"1\" class=\"dataframe\">\n",
       "  <thead>\n",
       "    <tr style=\"text-align: right;\">\n",
       "      <th></th>\n",
       "      <th>image_id</th>\n",
       "      <th>InChI</th>\n",
       "      <th>layers_count</th>\n",
       "      <th>chemical</th>\n",
       "      <th>image_url</th>\n",
       "      <th>image_size</th>\n",
       "      <th>image_width</th>\n",
       "      <th>image_height</th>\n",
       "    </tr>\n",
       "  </thead>\n",
       "  <tbody>\n",
       "    <tr>\n",
       "      <th>0</th>\n",
       "      <td>000011a64c74</td>\n",
       "      <td>InChI=1S/C13H20OS/c1-9(2)8-15-13-6-5-10(3)7-12...</td>\n",
       "      <td>4</td>\n",
       "      <td>C13H20OS</td>\n",
       "      <td>.\\bms-molecular-translation\\train\\0\\0\\0\\000011...</td>\n",
       "      <td>325x229</td>\n",
       "      <td>325</td>\n",
       "      <td>229</td>\n",
       "    </tr>\n",
       "    <tr>\n",
       "      <th>1</th>\n",
       "      <td>000019cc0cd2</td>\n",
       "      <td>InChI=1S/C21H30O4/c1-12(22)25-14-6-8-20(2)13(1...</td>\n",
       "      <td>7</td>\n",
       "      <td>C21H30O4</td>\n",
       "      <td>.\\bms-molecular-translation\\train\\0\\0\\0\\000019...</td>\n",
       "      <td>288x148</td>\n",
       "      <td>288</td>\n",
       "      <td>148</td>\n",
       "    </tr>\n",
       "    <tr>\n",
       "      <th>2</th>\n",
       "      <td>0000252b6d2b</td>\n",
       "      <td>InChI=1S/C24H23N5O4/c1-14-13-15(7-8-17(14)28-1...</td>\n",
       "      <td>4</td>\n",
       "      <td>C24H23N5O4</td>\n",
       "      <td>.\\bms-molecular-translation\\train\\0\\0\\0\\000025...</td>\n",
       "      <td>509x335</td>\n",
       "      <td>509</td>\n",
       "      <td>335</td>\n",
       "    </tr>\n",
       "    <tr>\n",
       "      <th>3</th>\n",
       "      <td>000026b49b7e</td>\n",
       "      <td>InChI=1S/C17H24N2O4S/c1-12(20)18-13(14-7-6-10-...</td>\n",
       "      <td>4</td>\n",
       "      <td>C17H24N2O4S</td>\n",
       "      <td>.\\bms-molecular-translation\\train\\0\\0\\0\\000026...</td>\n",
       "      <td>243x177</td>\n",
       "      <td>243</td>\n",
       "      <td>177</td>\n",
       "    </tr>\n",
       "    <tr>\n",
       "      <th>4</th>\n",
       "      <td>000026fc6c36</td>\n",
       "      <td>InChI=1S/C10H19N3O2S/c1-15-10(14)12-8-4-6-13(7...</td>\n",
       "      <td>4</td>\n",
       "      <td>C10H19N3O2S</td>\n",
       "      <td>.\\bms-molecular-translation\\train\\0\\0\\0\\000026...</td>\n",
       "      <td>294x112</td>\n",
       "      <td>294</td>\n",
       "      <td>112</td>\n",
       "    </tr>\n",
       "  </tbody>\n",
       "</table>\n",
       "</div>"
      ],
      "text/plain": [
       "       image_id                                              InChI  \\\n",
       "0  000011a64c74  InChI=1S/C13H20OS/c1-9(2)8-15-13-6-5-10(3)7-12...   \n",
       "1  000019cc0cd2  InChI=1S/C21H30O4/c1-12(22)25-14-6-8-20(2)13(1...   \n",
       "2  0000252b6d2b  InChI=1S/C24H23N5O4/c1-14-13-15(7-8-17(14)28-1...   \n",
       "3  000026b49b7e  InChI=1S/C17H24N2O4S/c1-12(20)18-13(14-7-6-10-...   \n",
       "4  000026fc6c36  InChI=1S/C10H19N3O2S/c1-15-10(14)12-8-4-6-13(7...   \n",
       "\n",
       "   layers_count     chemical  \\\n",
       "0             4     C13H20OS   \n",
       "1             7     C21H30O4   \n",
       "2             4   C24H23N5O4   \n",
       "3             4  C17H24N2O4S   \n",
       "4             4  C10H19N3O2S   \n",
       "\n",
       "                                           image_url image_size  image_width  \\\n",
       "0  .\\bms-molecular-translation\\train\\0\\0\\0\\000011...    325x229          325   \n",
       "1  .\\bms-molecular-translation\\train\\0\\0\\0\\000019...    288x148          288   \n",
       "2  .\\bms-molecular-translation\\train\\0\\0\\0\\000025...    509x335          509   \n",
       "3  .\\bms-molecular-translation\\train\\0\\0\\0\\000026...    243x177          243   \n",
       "4  .\\bms-molecular-translation\\train\\0\\0\\0\\000026...    294x112          294   \n",
       "\n",
       "   image_height  \n",
       "0           229  \n",
       "1           148  \n",
       "2           335  \n",
       "3           177  \n",
       "4           112  "
      ]
     },
     "execution_count": 5,
     "metadata": {},
     "output_type": "execute_result"
    }
   ],
   "source": [
    "df.head()"
   ]
  },
  {
   "cell_type": "code",
   "execution_count": 6,
   "id": "398afd30-ac57-46ce-9f94-194d5c4694f0",
   "metadata": {},
   "outputs": [
    {
     "name": "stdout",
     "output_type": "stream",
     "text": [
      ".\\bms-molecular-translation\\train\\0\\0\\0\\000011a64c74.png\n"
     ]
    },
    {
     "data": {
      "text/plain": [
       "<matplotlib.image.AxesImage at 0x1e606cb1e08>"
      ]
     },
     "execution_count": 6,
     "metadata": {},
     "output_type": "execute_result"
    },
    {
     "data": {
      "image/png": "[encoded data removed]",
      "text/plain": [
       "<Figure size 432x288 with 1 Axes>"
      ]
     },
     "metadata": {
      "needs_background": "light"
     },
     "output_type": "display_data"
    }
   ],
   "source": [
    "print(df[\"image_url\"].iloc[0])\n",
    "jpgfile = mpimg.imread(df[\"image_url\"].iloc[0])\n",
    "\n",
    "plt.imshow(jpgfile, cmap=\"gray\")"
   ]
  },
  {
   "cell_type": "code",
   "execution_count": 7,
   "id": "1ea225c8-09a7-458e-8873-05c4e322d125",
   "metadata": {},
   "outputs": [
    {
     "data": {
      "text/plain": [
       "(229, 325)"
      ]
     },
     "execution_count": 7,
     "metadata": {},
     "output_type": "execute_result"
    }
   ],
   "source": [
    "x = np.asarray(jpgfile)\n",
    "x.shape"
   ]
  },
  {
   "cell_type": "code",
   "execution_count": 8,
   "id": "c75b12da-8205-4674-b4b3-5908708d9cd6",
   "metadata": {},
   "outputs": [
    {
     "data": {
      "text/plain": [
       "device(type='cuda', index=0)"
      ]
     },
     "execution_count": 8,
     "metadata": {},
     "output_type": "execute_result"
    }
   ],
   "source": [
    "device = torch.device(\"cuda:0\" if torch.cuda.is_available() else \"cpu\")\n",
    "device"
   ]
  },
  {
   "cell_type": "code",
   "execution_count": 9,
   "id": "87e38f16-396f-419e-8f2a-ed0aa1d059ea",
   "metadata": {},
   "outputs": [],
   "source": [
    "class Vocabulary:\n",
    "    def __init__(self):\n",
    "        #setting the pre-reserved tokens int to string tokens\n",
    "        \n",
    "        #string to int tokens\n",
    "        #its reverse dict self.itos\n",
    "        self.stoi={'C': 0,')': 1,'P': 2,'l': 3,'=': 4,'3': 5,'N': 6,'I': 7,'2': 8,'6': 9,'H': 10,'4': 11,'F': 12,'0': 13,'1': 14,'-': 15,'O': 16,'8': 17,\n",
    "                   ',': 18,'B': 19,'(': 20,'7': 21,'r': 22,'/': 23,'m': 24,'c': 25,'s': 26,'h': 27,'i': 28,'t': 29,'T': 30,'n': 31,'5': 32,'+': 33,'b': 34,'9': 35,\n",
    "                   'D': 36,'S': 37,'<SOS>': 38,'<EOS>': 39,'<PAD>': 40}\n",
    "        \n",
    "        self.itos = {item[1]:item[0] for item in self.stoi.items()}\n",
    "        \n",
    "    def __len__(self): return len(self.itos)\n",
    "    \n",
    "    @staticmethod\n",
    "    def tokenize(text):\n",
    "        return [char for char in text]\n",
    "    \n",
    "    def build_vocab(self, sentence_list, freq_threshold):\n",
    "        frequencies = Counter()\n",
    "        idx = 4\n",
    "        \n",
    "        for sentence in sentence_list:\n",
    "            for word in self.tokenize(sentence):\n",
    "                frequencies[word] += 1\n",
    "                \n",
    "                #add the word to the vocab if it reaches minum frequecy threshold\n",
    "                if frequencies[word] == freq_threshold:\n",
    "                    self.stoi[word] = idx\n",
    "                    self.itos[idx] = word\n",
    "                    idx += 1\n",
    "    \n",
    "    def numericalize(self,text):\n",
    "        \"\"\" For each word in the text corresponding index token for that word form the vocab built as list \"\"\"\n",
    "        tokenized_text = self.tokenize(text)\n",
    "        return [ self.stoi[token] if token in self.stoi else self.stoi[\"<UNK>\"] for token in tokenized_text ] \n",
    "\n",
    "vocab = Vocabulary()\n",
    "# vocab.build_vocab(df[\"InChI\"].tolist())"
   ]
  },
  {
   "cell_type": "code",
   "execution_count": 10,
   "id": "67f9061a-9c63-40ba-b00c-b3e7f3316655",
   "metadata": {},
   "outputs": [],
   "source": [
    "transform = Compose([\n",
    "    #RandomHorizontalFlip(),\n",
    "    Resize((256,256)),\n",
    "    #ToTensor(),\n",
    "    Normalize(mean=[0.5], std=[0.5]),\n",
    "    ])"
   ]
  },
  {
   "cell_type": "code",
   "execution_count": 11,
   "id": "e47423d7-360f-44df-8e5e-9ae2707f91d9",
   "metadata": {},
   "outputs": [],
   "source": [
    "class MoleculesDataset(Dataset):\n",
    "    def __init__(self, data_df, vocab, transform):\n",
    "        self.df = data_df\n",
    "        self.transform = transform\n",
    "        self.vocab = vocab\n",
    "        \n",
    "    def __len__(self):\n",
    "        return len(self.df)\n",
    "    \n",
    "    def __getitem__(self, idx):\n",
    "        # print(f'Getting item with idx: {idx}')\n",
    "        row = self.df.iloc[idx]\n",
    "\n",
    "        pil_img = Image.open(row[\"image_url\"])\n",
    "        tensor_image = torchvision.transforms.ToTensor()(pil_img)\n",
    "        \n",
    "        caption_vec = []\n",
    "        caption_vec += [self.vocab.stoi[\"<SOS>\"]]\n",
    "        caption_vec += self.vocab.numericalize(row[\"InChI\"])\n",
    "        caption_vec += [self.vocab.stoi[\"<EOS>\"]]\n",
    "        \n",
    "        return (\n",
    "            self.transform(tensor_image),\n",
    "            torch.as_tensor(caption_vec)\n",
    "        )\n",
    "    \n",
    "dataset = MoleculesDataset(df, vocab, transform)"
   ]
  },
  {
   "cell_type": "code",
   "execution_count": 12,
   "id": "c5add462-cbbe-41b0-b717-4eebe7af9223",
   "metadata": {},
   "outputs": [],
   "source": [
    "pad_idx = dataset.vocab.stoi[\"<PAD>\"]\n",
    "\n",
    "class CapsCollate:\n",
    "    \"\"\"\n",
    "    Collate to apply the padding to the captions with dataloader\n",
    "    \"\"\"\n",
    "    def __init__(self,pad_idx,batch_first=False):\n",
    "        self.pad_idx = pad_idx\n",
    "        self.batch_first = batch_first\n",
    "    \n",
    "    def __call__(self,batch):\n",
    "        imgs = [item[0].unsqueeze(0) for item in batch]\n",
    "        imgs = torch.cat(imgs,dim=0)\n",
    "        \n",
    "        targets = [item[1] for item in batch]\n",
    "        targets = pad_sequence(targets, batch_first=self.batch_first, padding_value=self.pad_idx)\n",
    "        return imgs,targets\n",
    "\n",
    "dataloader = torch.utils.data.DataLoader(\n",
    "    dataset, \n",
    "    batch_size=8, \n",
    "    shuffle=True,\n",
    "    num_workers=0, \n",
    "    pin_memory=True,\n",
    "    collate_fn=CapsCollate(pad_idx=pad_idx,batch_first=True)\n",
    ")"
   ]
  },
  {
   "cell_type": "code",
   "execution_count": 14,
   "id": "9de938b3-6d20-4179-95f3-13770aed09ad",
   "metadata": {},
   "outputs": [],
   "source": [
    "class EncoderCNN(nn.Module):\n",
    "    def __init__(self):\n",
    "        super(EncoderCNN, self).__init__()\n",
    "        resnet = models.resnet50(pretrained=False)\n",
    "        resnet.conv1 = nn.Conv2d(1, 64, kernel_size=7, stride=2, padding=3,\n",
    "                               bias=False)\n",
    "        for param in resnet.parameters():\n",
    "            param.requires_grad_(True)\n",
    "            \n",
    "        self.resnet = nn.Sequential(*list(resnet.children())[:-2])\n",
    "        \n",
    "    def forward(self, images):\n",
    "        features = self.resnet(images)\n",
    "        features = features.permute(0, 2, 3, 1)\n",
    "        features = features.view(features.size(0), -1, features.size(-1))\n",
    "        # print(features.shape)\n",
    "        return features"
   ]
  },
  {
   "cell_type": "code",
   "execution_count": 15,
   "id": "2a5842dc-abc0-478f-bb45-be47351af09d",
   "metadata": {},
   "outputs": [],
   "source": [
    "#Bahdanau Attention\n",
    "class Attention(nn.Module):\n",
    "    def __init__(self, encoder_dim, decoder_dim, attention_dim):\n",
    "        super(Attention, self).__init__()\n",
    "        \n",
    "        self.attention_dim = attention_dim\n",
    "        \n",
    "        self.W = nn.Linear(decoder_dim, attention_dim)\n",
    "        self.U = nn.Linear(encoder_dim, attention_dim)\n",
    "        \n",
    "        self.A = nn.Linear(attention_dim,1)\n",
    "        \n",
    "    def forward(self, features, hidden_state):\n",
    "        u_hs = self.U(features)\n",
    "        w_ah = self.W(hidden_state)\n",
    "        \n",
    "        combined_states = torch.tanh(u_hs + w_ah.unsqueeze(1))\n",
    "        \n",
    "        attention_scores = self.A(combined_states)\n",
    "        attention_scores = attention_scores.squeeze(2)\n",
    "        \n",
    "        alpha = F.softmax(attention_scores, dim=1)\n",
    "        \n",
    "        attention_weights = features*alpha.unsqueeze(2)\n",
    "        attention_weights = attention_weights.sum(dim=1)\n",
    "        \n",
    "        return alpha, attention_weights"
   ]
  },
  {
   "cell_type": "code",
   "execution_count": 16,
   "id": "9f2283f6-100d-4771-be40-c04d8d008db3",
   "metadata": {},
   "outputs": [],
   "source": [
    "class DecoderRNN(nn.Module):\n",
    "    def __init__(self, embed_size, vocab_size, attention_dim, encoder_dim, decoder_dim, drop_prob=0.3):\n",
    "        super().__init__()\n",
    "        \n",
    "        self.vocab_size = vocab_size\n",
    "        self.attention_dim = attention_dim\n",
    "        self.decoder_dim = decoder_dim\n",
    "        \n",
    "        self.embedding = nn.Embedding(vocab_size, embed_size)\n",
    "        self.attention = Attention(encoder_dim, decoder_dim, attention_dim)\n",
    "        \n",
    "        self.init_h = nn.Linear(encoder_dim, decoder_dim)\n",
    "        self.init_c = nn.Linear(encoder_dim, decoder_dim)\n",
    "        \n",
    "        self.lstm_cell = nn.LSTMCell(embed_size+encoder_dim, decoder_dim, bias=True)\n",
    "        self.f_beta = nn.Linear(decoder_dim, encoder_dim)\n",
    "        \n",
    "        self.fcn = nn.Linear(decoder_dim, vocab_size)\n",
    "        self.dropout = nn.Dropout(drop_prob)\n",
    "        \n",
    "    def forward(self, features, captions):\n",
    "        embeds = self.embedding(captions)\n",
    "        \n",
    "        #initialize LSTM state\n",
    "        h, c = self.init_hidden_state(features) #(batch_size, decoder_dim)\n",
    "        \n",
    "        #get the seq length to iterate\n",
    "        seq_length = len(captions[0])-1\n",
    "        batch_size = captions.size(0)\n",
    "        num_features = features.size(1)\n",
    "        \n",
    "        preds = torch.zeros(batch_size, seq_length, self.vocab_size).to(device)\n",
    "        alphas = torch.zeros(batch_size, seq_length, num_features).to(device)\n",
    "        \n",
    "        for s in range(seq_length):\n",
    "            alpha, context = self.attention(features, h)\n",
    "            lstm_input = torch.cat((embeds[:, s], context), dim=1)\n",
    "            h,c = self.lstm_cell(lstm_input, (h,c))\n",
    "            \n",
    "            output = self.fcn(self.dropout(h))\n",
    "            \n",
    "            preds[:, s] = output\n",
    "            alphas[:, s] = alpha\n",
    "            \n",
    "        return preds, alphas\n",
    "    \n",
    "    def generate_caption(self, features, max_length=120, vocab=None):\n",
    "        \n",
    "        batch_size = features.size(0)\n",
    "        h, c = self.init_hidden_state(features)\n",
    "        \n",
    "        alphas=[]\n",
    "        \n",
    "        word = torch.tensor(vocab.stoi['<SOS>']).view(1,-1).to(device)\n",
    "        embeds = self.embedding(word)\n",
    "\n",
    "        #??\n",
    "        captions=[]\n",
    "        \n",
    "        for i in range(max_length):\n",
    "            alpha, context = self.attention(features, h)\n",
    "            \n",
    "            alphas.append(alpha.cpu().detach().numpy())\n",
    "            \n",
    "            lstm_input = torch.cat((embeds[:, 0], context), dim=1)\n",
    "            h,c = self.lstm_cell(lstm_input, (h,c))\n",
    "            output = self.fcn(self.dropout(h))\n",
    "            output = output.view(batch_size,-1)\n",
    "            \n",
    "            #select the word\n",
    "            predicted_word_idx = output.argmax(dim=1)\n",
    "            \n",
    "            #save the generated word\n",
    "            captions.append(predicted_word_idx.item())\n",
    "            \n",
    "            if predicted_word_idx.item() == vocab.stoi[\"<EOS>\"]:\n",
    "                break\n",
    "            \n",
    "            #send generated word as the next caption\n",
    "            embeds = self.embedding(predicted_word_idx.unsqueeze(0))\n",
    "            \n",
    "        return [vocab.itos[idx] for idx in captions], alphas\n",
    "    \n",
    "    def init_hidden_state(self, encoder_out):\n",
    "        mean_encoder_out = encoder_out.mean(dim=1)\n",
    "        h = self.init_h(mean_encoder_out)\n",
    "        c = self.init_c(mean_encoder_out)\n",
    "        \n",
    "        return h,c"
   ]
  },
  {
   "cell_type": "code",
   "execution_count": 17,
   "id": "f952b97a-1498-498f-bc8c-cf5d457979dd",
   "metadata": {},
   "outputs": [],
   "source": [
    "class EncoderDecoder(nn.Module):\n",
    "    def __init__(self, embed_size, vocab_size, attention_dim, encoder_dim, decoder_dim, drop_prob=0.3):\n",
    "        super().__init__()\n",
    "        self.encoder = EncoderCNN()\n",
    "        self.decoder = DecoderRNN(\n",
    "            embed_size=embed_size,\n",
    "            vocab_size=vocab_size,\n",
    "            attention_dim=attention_dim,\n",
    "            encoder_dim=encoder_dim,\n",
    "            decoder_dim=decoder_dim\n",
    "        )\n",
    "        \n",
    "    def forward(self, images, captions):\n",
    "        features = self.encoder(images)\n",
    "        outputs = self.decoder(features, captions)\n",
    "        \n",
    "        return outputs"
   ]
  },
  {
   "cell_type": "code",
   "execution_count": 18,
   "id": "56d96173-7f70-46fc-bf10-0ac1bd31193f",
   "metadata": {},
   "outputs": [],
   "source": [
    "#Hyperparams\n",
    "embed_size=200\n",
    "vocab_size = len(dataset.vocab)\n",
    "attention_dim=300\n",
    "encoder_dim=2048\n",
    "decoder_dim=300"
   ]
  },
  {
   "cell_type": "code",
   "execution_count": 19,
   "id": "dc3378c0-82cb-496d-872a-f0fba183e531",
   "metadata": {},
   "outputs": [],
   "source": [
    "model = EncoderDecoder(\n",
    "    embed_size=embed_size,\n",
    "    vocab_size=vocab_size,\n",
    "    attention_dim=attention_dim,\n",
    "    encoder_dim=encoder_dim,\n",
    "    decoder_dim=decoder_dim\n",
    ").to(device)\n",
    "\n",
    "loss = nn.CrossEntropyLoss(ignore_index=dataset.vocab.stoi[\"<PAD>\"])\n",
    "optimizer = optim.Adam(model.parameters(), lr = 3e-4)"
   ]
  },
  {
   "cell_type": "code",
   "execution_count": 20,
   "id": "76d71acf-90e9-4a31-baf5-46384c56592a",
   "metadata": {},
   "outputs": [],
   "source": [
    "#helper function to save the model\n",
    "def save_model(model,num_epochs):\n",
    "    model_state = {\n",
    "        'num_epochs':num_epochs,\n",
    "        'embed_size':embed_size,\n",
    "        'vocab_size':len(dataset.vocab),\n",
    "        'attention_dim':attention_dim,\n",
    "        'encoder_dim':encoder_dim,\n",
    "        'decoder_dim':decoder_dim,\n",
    "        'state_dict':model.state_dict()\n",
    "    }\n",
    "\n",
    "    torch.save(model_state,'attention_model_state.pth')"
   ]
  },
  {
   "cell_type": "code",
   "execution_count": 21,
   "id": "d7be83e1-1026-4bb2-82d9-859c191852bf",
   "metadata": {},
   "outputs": [],
   "source": [
    "torch.cuda.empty_cache()"
   ]
  },
  {
   "cell_type": "code",
   "execution_count": 22,
   "id": "0a56ca22-18a9-4177-90ac-9b272596f8b3",
   "metadata": {},
   "outputs": [
    {
     "name": "stderr",
     "output_type": "stream",
     "text": [
      "  0%|                                                                                                                 | 9/303024 [00:10<80:50:54,  1.04it/s]"
     ]
    },
    {
     "name": "stdout",
     "output_type": "stream",
     "text": [
      "Epoch: 1 loss: 2.37205\n"
     ]
    },
    {
     "name": "stderr",
     "output_type": "stream",
     "text": [
      "  0%|                                                                                                                | 10/303024 [00:11<97:17:39,  1.16s/it]"
     ]
    },
    {
     "name": "stdout",
     "output_type": "stream",
     "text": [
      "Original caption: <SOS>InChI=1S/C17H24N2O7/c1-10(17(22)26-9-14(20)19(2)3)18-16(21)11-7-12(23-4)15(25-6)13(8-11)24-5/h7-8,10H,9H2,1-6H3,(H,18,21)/t10-/m0/s1<EOS>\n",
      "Generated caption: II<PAD><PAD><PAD><PAD><PAD><PAD><PAD><PAD><PAD><PAD><PAD><PAD><PAD><PAD><PAD><PAD><PAD><PAD><PAD><PAD><PAD><PAD><PAD><PAD><PAD><PAD><PAD><PAD><PAD><PAD><PAD><PAD><PAD><PAD><PAD><PAD><PAD><PAD><PAD><PAD><PAD><PAD><PAD><PAD><PAD><PAD><PAD><PAD><PAD><PAD><PAD><PAD><PAD><PAD><PAD><PAD><PAD><PAD><PAD><PAD><PAD><PAD><PAD><PAD><PAD><PAD><PAD><PAD><PAD><PAD><PAD><PAD><PAD><PAD><PAD><PAD><PAD><PAD><PAD><PAD><PAD><PAD><PAD><PAD><PAD><PAD><PAD><PAD><PAD><PAD><PAD><PAD><PAD><PAD><PAD><PAD><PAD><PAD><PAD><PAD><PAD><PAD><PAD><PAD><PAD><PAD><PAD><PAD><PAD><PAD><PAD><PAD><PAD><PAD><PAD><PAD><PAD><PAD>\n"
     ]
    },
    {
     "name": "stderr",
     "output_type": "stream",
     "text": [
      "  0%|                                                                                                                | 19/303024 [00:19<69:34:20,  1.21it/s]"
     ]
    },
    {
     "name": "stdout",
     "output_type": "stream",
     "text": [
      "Epoch: 1 loss: 2.23718\n"
     ]
    },
    {
     "name": "stderr",
     "output_type": "stream",
     "text": [
      "  0%|                                                                                                                | 20/303024 [00:20<83:25:16,  1.01it/s]"
     ]
    },
    {
     "name": "stdout",
     "output_type": "stream",
     "text": [
      "Original caption: <SOS>InChI=1S/C25H25NO4S/c1-2-29-25(28)23-21(18-9-4-3-5-10-18)16-31-24(23)26-22(27)15-30-20-13-12-17-8-6-7-11-19(17)14-20/h3-5,9-10,12-14,16H,2,6-8,11,15H2,1H3,(H,26,27)<EOS>\n",
      "Generated caption: III1111111111-11-11-1-11-1-11-11-11-11-11-11-11-11-11-11-11-11-11-11-11-11-11-11-11-11-11-11-11-11-11-11-11-11-11-11-11-\n"
     ]
    },
    {
     "name": "stderr",
     "output_type": "stream",
     "text": [
      "  0%|                                                                                                                | 29/303024 [00:28<74:52:58,  1.12it/s]"
     ]
    },
    {
     "name": "stdout",
     "output_type": "stream",
     "text": [
      "Epoch: 1 loss: 1.74808\n"
     ]
    },
    {
     "name": "stderr",
     "output_type": "stream",
     "text": [
      "  0%|                                                                                                                | 30/303024 [00:30<88:30:29,  1.05s/it]"
     ]
    },
    {
     "name": "stdout",
     "output_type": "stream",
     "text": [
      "Original caption: <SOS>InChI=1S/C21H18N2O4/c1-14(24)23-19(11-15-7-3-2-4-8-15)21(26)27-13-20(25)17-12-22-18-10-6-5-9-16(17)18/h2-12,22H,13H2,1H3,(H,23,24)/b19-11+<EOS>\n",
      "Generated caption: InChI111111111-1-1-1-1-1-1-1-1-1-1-1-1-1-1-1-1-1-1-1-1-1-1-1-1-1-1-1-1-1-1-1-1-1-1-1-1-1-1-1-1-1-1-1-1-1-1-1-1-1-1-1-1-1\n"
     ]
    },
    {
     "name": "stderr",
     "output_type": "stream",
     "text": [
      "  0%|                                                                                                                | 39/303024 [00:37<71:09:37,  1.18it/s]"
     ]
    },
    {
     "name": "stdout",
     "output_type": "stream",
     "text": [
      "Epoch: 1 loss: 1.82419\n"
     ]
    },
    {
     "name": "stderr",
     "output_type": "stream",
     "text": [
      "  0%|                                                                                                                | 40/303024 [00:39<87:02:00,  1.03s/it]"
     ]
    },
    {
     "name": "stdout",
     "output_type": "stream",
     "text": [
      "Original caption: <SOS>InChI=1S/C17H16FN3/c18-16-8-4-7-14(9-16)17(10-19)21-12-15(11-20-21)13-5-2-1-3-6-13/h1-9,11-12,17H,10,19H2<EOS>\n",
      "Generated caption: InChI1112122212121-1-1-1-1-1-1-1-1-1-1-1-1-1-1-1-1-1-1-1-1-1-1-1-1-1-1-1-1-1-1-1-1-1-1-1-1-1-1-1-1-1-1-1-1-1-1-1-1-1-1-1\n"
     ]
    },
    {
     "name": "stderr",
     "output_type": "stream",
     "text": [
      "  0%|                                                                                                                | 49/303024 [00:46<68:27:22,  1.23it/s]"
     ]
    },
    {
     "name": "stdout",
     "output_type": "stream",
     "text": [
      "Epoch: 1 loss: 2.04033\n"
     ]
    },
    {
     "name": "stderr",
     "output_type": "stream",
     "text": [
      "  0%|                                                                                                                | 50/303024 [00:47<80:31:08,  1.05it/s]"
     ]
    },
    {
     "name": "stdout",
     "output_type": "stream",
     "text": [
      "Original caption: <SOS>InChI=1S/C18H25BrN2/c19-17-4-2-1-3-16(17)13-20-7-9-21(10-8-20)18-12-14-5-6-15(18)11-14/h1-4,14-15,18H,5-13H2/t14-,15+,18-/m1/s1<EOS>\n",
      "Generated caption: InChI=1111112121212121-1-1-1-1-1-1-1-1-1-1-1-1-1-1-1-1-1-1-1-1-1-1-1-1-1-1-1-1-1-1-1-1-1-1-1-1-1-1-1-1-1-1-1-1-1-1-1-1-1\n"
     ]
    },
    {
     "name": "stderr",
     "output_type": "stream",
     "text": [
      "  0%|                                                                                                                | 59/303024 [00:55<70:40:36,  1.19it/s]"
     ]
    },
    {
     "name": "stdout",
     "output_type": "stream",
     "text": [
      "Epoch: 1 loss: 1.78049\n"
     ]
    },
    {
     "name": "stderr",
     "output_type": "stream",
     "text": [
      "  0%|                                                                                                                | 60/303024 [00:56<87:00:31,  1.03s/it]"
     ]
    },
    {
     "name": "stdout",
     "output_type": "stream",
     "text": [
      "Original caption: <SOS>InChI=1S/C23H26N4O3/c1-29-19-11-10-16(20(15-19)30-2)14-22(28)24-18-8-6-7-17(13-18)23-26-25-21-9-4-3-5-12-27(21)23/h6-8,10-11,13,15H,3-5,9,12,14H2,1-2H3,(H,24,28)<EOS>\n",
      "Generated caption: InChI=11/11212122121-1-1-1-1-1-1-1-1-1-1-1-1-1-1-1-1-1-1-1-1-1-1-1-1-1-1-1-1-1-1-1-1-1-1-1-1-1-1-1-1-1-1-1-1-1-1-1-1-1-1\n"
     ]
    },
    {
     "name": "stderr",
     "output_type": "stream",
     "text": [
      "  0%|                                                                                                                | 69/303024 [01:04<72:49:10,  1.16it/s]"
     ]
    },
    {
     "name": "stdout",
     "output_type": "stream",
     "text": [
      "Epoch: 1 loss: 1.59922\n"
     ]
    },
    {
     "name": "stderr",
     "output_type": "stream",
     "text": [
      "  0%|                                                                                                                | 70/303024 [01:06<86:39:27,  1.03s/it]"
     ]
    },
    {
     "name": "stdout",
     "output_type": "stream",
     "text": [
      "Original caption: <SOS>InChI=1S/C24H29ClN6O2/c1-26-23(32)17-5-6-20(18(25)13-17)30-10-8-29(9-11-30)15-16-12-19-22(27-14-16)31-7-3-2-4-21(31)24(33)28-19/h5-6,12-14,21H,2-4,7-11,15H2,1H3,(H,26,32)(H,28,33)/t21-/m0/s1<EOS>\n",
      "Generated caption: InChI=1S/11121212121-1-1-1-1-1-1-1-1-1-1-1-1-1-1-1-1-1-1-1-1-1-1-1-1-1-1-1-1-1-1-1-1-1-1-1-1-1-1-1-1-1-1-1-1-1-1-1-1-1-1\n"
     ]
    },
    {
     "name": "stderr",
     "output_type": "stream",
     "text": [
      "  0%|                                                                                                                | 79/303024 [01:14<80:56:55,  1.04it/s]"
     ]
    },
    {
     "name": "stdout",
     "output_type": "stream",
     "text": [
      "Epoch: 1 loss: 1.25567\n"
     ]
    },
    {
     "name": "stderr",
     "output_type": "stream",
     "text": [
      "  0%|                                                                                                               | 80/303024 [01:16<105:02:39,  1.25s/it]"
     ]
    },
    {
     "name": "stdout",
     "output_type": "stream",
     "text": [
      "Original caption: <SOS>InChI=1S/C21H25ClN2O/c1-3-18(16-9-6-5-7-10-16)21-23-19-15-17(22)11-12-20(19)24(21)13-8-14-25-4-2/h5-7,9-12,15,18H,3-4,8,13-14H2,1-2H3<EOS>\n",
      "Generated caption: InChI=1S/C11212212212-1-1-1-1-1-1-1-1-1-1-1-1-1-1-1-1-1-1-1-1-1-1-1-1-1-1-1-1-1-1-1-1-1-1-1-1-1-1-1-1-1-1-1-1-1-1-1-1-1-\n"
     ]
    },
    {
     "name": "stderr",
     "output_type": "stream",
     "text": [
      "  0%|                                                                                                                | 89/303024 [01:24<78:46:38,  1.07it/s]"
     ]
    },
    {
     "name": "stdout",
     "output_type": "stream",
     "text": [
      "Epoch: 1 loss: 1.59946\n"
     ]
    },
    {
     "name": "stderr",
     "output_type": "stream",
     "text": [
      "  0%|                                                                                                                | 90/303024 [01:26<94:12:27,  1.12s/it]"
     ]
    },
    {
     "name": "stdout",
     "output_type": "stream",
     "text": [
      "Original caption: <SOS>InChI=1S/C18H13ClINO4S/c19-13-3-1-2-4-15(13)25-8-7-21-17(23)16(26-18(21)24)10-11-9-12(20)5-6-14(11)22/h1-6,9-10,22H,7-8H2/b16-10-<EOS>\n",
      "Generated caption: InChI=1S/C1S/11H1222212-1-1-1-1-1-1-1-1-1-1-1-1-1-1-1-1-1-1-1-1-1-1-1-1-1-1-1-1-1-1-1-1-1-1-1-1-1-1-1-1-1-1-1-1-1-1-1-1-\n"
     ]
    },
    {
     "name": "stderr",
     "output_type": "stream",
     "text": [
      "  0%|                                                                                                                | 99/303024 [01:33<73:31:50,  1.14it/s]"
     ]
    },
    {
     "name": "stdout",
     "output_type": "stream",
     "text": [
      "Epoch: 1 loss: 1.91537\n"
     ]
    },
    {
     "name": "stderr",
     "output_type": "stream",
     "text": [
      "  0%|                                                                                                               | 100/303024 [01:35<86:17:41,  1.03s/it]"
     ]
    },
    {
     "name": "stdout",
     "output_type": "stream",
     "text": [
      "Original caption: <SOS>InChI=1S/C22H24N4O2/c1-3-26(4-2)21-15-20(24-22(25-21)16-8-6-5-7-9-16)23-17-10-11-18-19(14-17)28-13-12-27-18/h5-11,14-15H,3-4,12-13H2,1-2H3,(H,23,24,25)<EOS>\n",
      "Generated caption: InChI=1S/C12H2222222-1-1-1-1-1-1-1-1-1-1-1-1-1-1-1-1-1-1-1-1-1-1-1-1-1-1-1-1-1-1-1-1-1-1-1-1-1-1-1-1-1-1-1-1-1-1-1-1-1-1\n"
     ]
    },
    {
     "name": "stderr",
     "output_type": "stream",
     "text": [
      "  0%|                                                                                                               | 109/303024 [01:43<83:04:46,  1.01it/s]"
     ]
    },
    {
     "name": "stdout",
     "output_type": "stream",
     "text": [
      "Epoch: 1 loss: 1.40341\n"
     ]
    },
    {
     "name": "stderr",
     "output_type": "stream",
     "text": [
      "  0%|                                                                                                               | 110/303024 [01:45<99:18:43,  1.18s/it]"
     ]
    },
    {
     "name": "stdout",
     "output_type": "stream",
     "text": [
      "Original caption: <SOS>InChI=1S/C16H16N2OS/c17-15(20)13-8-4-10-18-16(13)19-14-9-3-6-11-5-1-2-7-12(11)14/h1-2,4-5,7-8,10,14H,3,6,9H2,(H2,17,20)<EOS>\n",
      "Generated caption: InChI=1S/C11S/C1H212-1-1-1-1-1-1-1-1-1-1-1-1-1-1-1-1-1-1-1-1-1-1-1-1-1-1-1-1-1-1-1-1-1-1-1-1-1-1-1-1-1-1-1-1-1-1-1-1-1-1\n"
     ]
    },
    {
     "name": "stderr",
     "output_type": "stream",
     "text": [
      "  0%|                                                                                                               | 119/303024 [01:53<77:04:54,  1.09it/s]"
     ]
    },
    {
     "name": "stdout",
     "output_type": "stream",
     "text": [
      "Epoch: 1 loss: 1.37996\n"
     ]
    },
    {
     "name": "stderr",
     "output_type": "stream",
     "text": [
      "  0%|                                                                                                               | 120/303024 [01:54<94:33:23,  1.12s/it]"
     ]
    },
    {
     "name": "stdout",
     "output_type": "stream",
     "text": [
      "Original caption: <SOS>InChI=1S/C31H43N5O3/c37-28(35-17-19-36(20-18-35)29(38)31(39)14-15-31)27-33-22-25(23-10-11-26-24(21-23)9-8-16-32-26)30(34-27)12-6-4-2-1-3-5-7-13-30/h8-11,16,21,25,27,33-34,39H,1-7,12-15,17-20,22H2<EOS>\n",
      "Generated caption: InChI=1S/C12H2222222222-1-1-1-1-1-1-1-1-1-1-1-1-1-1-1-1-1-1-1-1-1-1-1-1-1-1-1-1-1-1-1-1-1-1-1-1-1-1-1-1-1-1-1-1-1-1-1-1-\n"
     ]
    },
    {
     "name": "stderr",
     "output_type": "stream",
     "text": [
      "  0%|                                                                                                               | 122/303024 [01:57<81:04:30,  1.04it/s]\n",
      "  0%|                                                                                                                                | 0/25 [01:57<?, ?it/s]\n"
     ]
    },
    {
     "ename": "RuntimeError",
     "evalue": "CUDA out of memory. Tried to allocate 20.00 MiB (GPU 0; 4.00 GiB total capacity; 2.70 GiB already allocated; 7.35 MiB free; 2.71 GiB reserved in total by PyTorch)",
     "output_type": "error",
     "traceback": [
      "\u001b[1;31m---------------------------------------------------------------------------\u001b[0m",
      "\u001b[1;31mRuntimeError\u001b[0m                              Traceback (most recent call last)",
      "\u001b[1;32m<ipython-input-22-85848c1c756d>\u001b[0m in \u001b[0;36m<module>\u001b[1;34m\u001b[0m\n\u001b[0;32m     11\u001b[0m         \u001b[0moptimizer\u001b[0m\u001b[1;33m.\u001b[0m\u001b[0mzero_grad\u001b[0m\u001b[1;33m(\u001b[0m\u001b[1;33m)\u001b[0m\u001b[1;33m\u001b[0m\u001b[1;33m\u001b[0m\u001b[0m\n\u001b[0;32m     12\u001b[0m \u001b[1;33m\u001b[0m\u001b[0m\n\u001b[1;32m---> 13\u001b[1;33m         \u001b[0moutputs\u001b[0m\u001b[1;33m,\u001b[0m \u001b[0mattentions\u001b[0m \u001b[1;33m=\u001b[0m \u001b[0mmodel\u001b[0m\u001b[1;33m(\u001b[0m\u001b[0mimage\u001b[0m\u001b[1;33m,\u001b[0m \u001b[0mcaptions\u001b[0m\u001b[1;33m)\u001b[0m\u001b[1;33m\u001b[0m\u001b[1;33m\u001b[0m\u001b[0m\n\u001b[0m\u001b[0;32m     14\u001b[0m         \u001b[0mtargets\u001b[0m \u001b[1;33m=\u001b[0m \u001b[0mcaptions\u001b[0m\u001b[1;33m[\u001b[0m\u001b[1;33m:\u001b[0m\u001b[1;33m,\u001b[0m \u001b[1;36m1\u001b[0m\u001b[1;33m:\u001b[0m\u001b[1;33m]\u001b[0m\u001b[1;33m\u001b[0m\u001b[1;33m\u001b[0m\u001b[0m\n\u001b[0;32m     15\u001b[0m \u001b[1;33m\u001b[0m\u001b[0m\n",
      "\u001b[1;32mC:\\MLProjects\\MolecularTranslation\\venv\\lib\\site-packages\\torch\\nn\\modules\\module.py\u001b[0m in \u001b[0;36m_call_impl\u001b[1;34m(self, *input, **kwargs)\u001b[0m\n\u001b[0;32m    887\u001b[0m             \u001b[0mresult\u001b[0m \u001b[1;33m=\u001b[0m \u001b[0mself\u001b[0m\u001b[1;33m.\u001b[0m\u001b[0m_slow_forward\u001b[0m\u001b[1;33m(\u001b[0m\u001b[1;33m*\u001b[0m\u001b[0minput\u001b[0m\u001b[1;33m,\u001b[0m \u001b[1;33m**\u001b[0m\u001b[0mkwargs\u001b[0m\u001b[1;33m)\u001b[0m\u001b[1;33m\u001b[0m\u001b[1;33m\u001b[0m\u001b[0m\n\u001b[0;32m    888\u001b[0m         \u001b[1;32melse\u001b[0m\u001b[1;33m:\u001b[0m\u001b[1;33m\u001b[0m\u001b[1;33m\u001b[0m\u001b[0m\n\u001b[1;32m--> 889\u001b[1;33m             \u001b[0mresult\u001b[0m \u001b[1;33m=\u001b[0m \u001b[0mself\u001b[0m\u001b[1;33m.\u001b[0m\u001b[0mforward\u001b[0m\u001b[1;33m(\u001b[0m\u001b[1;33m*\u001b[0m\u001b[0minput\u001b[0m\u001b[1;33m,\u001b[0m \u001b[1;33m**\u001b[0m\u001b[0mkwargs\u001b[0m\u001b[1;33m)\u001b[0m\u001b[1;33m\u001b[0m\u001b[1;33m\u001b[0m\u001b[0m\n\u001b[0m\u001b[0;32m    890\u001b[0m         for hook in itertools.chain(\n\u001b[0;32m    891\u001b[0m                 \u001b[0m_global_forward_hooks\u001b[0m\u001b[1;33m.\u001b[0m\u001b[0mvalues\u001b[0m\u001b[1;33m(\u001b[0m\u001b[1;33m)\u001b[0m\u001b[1;33m,\u001b[0m\u001b[1;33m\u001b[0m\u001b[1;33m\u001b[0m\u001b[0m\n",
      "\u001b[1;32m<ipython-input-17-5e107169ab7a>\u001b[0m in \u001b[0;36mforward\u001b[1;34m(self, images, captions)\u001b[0m\n\u001b[0;32m     13\u001b[0m     \u001b[1;32mdef\u001b[0m \u001b[0mforward\u001b[0m\u001b[1;33m(\u001b[0m\u001b[0mself\u001b[0m\u001b[1;33m,\u001b[0m \u001b[0mimages\u001b[0m\u001b[1;33m,\u001b[0m \u001b[0mcaptions\u001b[0m\u001b[1;33m)\u001b[0m\u001b[1;33m:\u001b[0m\u001b[1;33m\u001b[0m\u001b[1;33m\u001b[0m\u001b[0m\n\u001b[0;32m     14\u001b[0m         \u001b[0mfeatures\u001b[0m \u001b[1;33m=\u001b[0m \u001b[0mself\u001b[0m\u001b[1;33m.\u001b[0m\u001b[0mencoder\u001b[0m\u001b[1;33m(\u001b[0m\u001b[0mimages\u001b[0m\u001b[1;33m)\u001b[0m\u001b[1;33m\u001b[0m\u001b[1;33m\u001b[0m\u001b[0m\n\u001b[1;32m---> 15\u001b[1;33m         \u001b[0moutputs\u001b[0m \u001b[1;33m=\u001b[0m \u001b[0mself\u001b[0m\u001b[1;33m.\u001b[0m\u001b[0mdecoder\u001b[0m\u001b[1;33m(\u001b[0m\u001b[0mfeatures\u001b[0m\u001b[1;33m,\u001b[0m \u001b[0mcaptions\u001b[0m\u001b[1;33m)\u001b[0m\u001b[1;33m\u001b[0m\u001b[1;33m\u001b[0m\u001b[0m\n\u001b[0m\u001b[0;32m     16\u001b[0m \u001b[1;33m\u001b[0m\u001b[0m\n\u001b[0;32m     17\u001b[0m         \u001b[1;32mreturn\u001b[0m \u001b[0moutputs\u001b[0m\u001b[1;33m\u001b[0m\u001b[1;33m\u001b[0m\u001b[0m\n",
      "\u001b[1;32mC:\\MLProjects\\MolecularTranslation\\venv\\lib\\site-packages\\torch\\nn\\modules\\module.py\u001b[0m in \u001b[0;36m_call_impl\u001b[1;34m(self, *input, **kwargs)\u001b[0m\n\u001b[0;32m    887\u001b[0m             \u001b[0mresult\u001b[0m \u001b[1;33m=\u001b[0m \u001b[0mself\u001b[0m\u001b[1;33m.\u001b[0m\u001b[0m_slow_forward\u001b[0m\u001b[1;33m(\u001b[0m\u001b[1;33m*\u001b[0m\u001b[0minput\u001b[0m\u001b[1;33m,\u001b[0m \u001b[1;33m**\u001b[0m\u001b[0mkwargs\u001b[0m\u001b[1;33m)\u001b[0m\u001b[1;33m\u001b[0m\u001b[1;33m\u001b[0m\u001b[0m\n\u001b[0;32m    888\u001b[0m         \u001b[1;32melse\u001b[0m\u001b[1;33m:\u001b[0m\u001b[1;33m\u001b[0m\u001b[1;33m\u001b[0m\u001b[0m\n\u001b[1;32m--> 889\u001b[1;33m             \u001b[0mresult\u001b[0m \u001b[1;33m=\u001b[0m \u001b[0mself\u001b[0m\u001b[1;33m.\u001b[0m\u001b[0mforward\u001b[0m\u001b[1;33m(\u001b[0m\u001b[1;33m*\u001b[0m\u001b[0minput\u001b[0m\u001b[1;33m,\u001b[0m \u001b[1;33m**\u001b[0m\u001b[0mkwargs\u001b[0m\u001b[1;33m)\u001b[0m\u001b[1;33m\u001b[0m\u001b[1;33m\u001b[0m\u001b[0m\n\u001b[0m\u001b[0;32m    890\u001b[0m         for hook in itertools.chain(\n\u001b[0;32m    891\u001b[0m                 \u001b[0m_global_forward_hooks\u001b[0m\u001b[1;33m.\u001b[0m\u001b[0mvalues\u001b[0m\u001b[1;33m(\u001b[0m\u001b[1;33m)\u001b[0m\u001b[1;33m,\u001b[0m\u001b[1;33m\u001b[0m\u001b[1;33m\u001b[0m\u001b[0m\n",
      "\u001b[1;32m<ipython-input-16-340e70cf69aa>\u001b[0m in \u001b[0;36mforward\u001b[1;34m(self, features, captions)\u001b[0m\n\u001b[0;32m     34\u001b[0m \u001b[1;33m\u001b[0m\u001b[0m\n\u001b[0;32m     35\u001b[0m         \u001b[1;32mfor\u001b[0m \u001b[0ms\u001b[0m \u001b[1;32min\u001b[0m \u001b[0mrange\u001b[0m\u001b[1;33m(\u001b[0m\u001b[0mseq_length\u001b[0m\u001b[1;33m)\u001b[0m\u001b[1;33m:\u001b[0m\u001b[1;33m\u001b[0m\u001b[1;33m\u001b[0m\u001b[0m\n\u001b[1;32m---> 36\u001b[1;33m             \u001b[0malpha\u001b[0m\u001b[1;33m,\u001b[0m \u001b[0mcontext\u001b[0m \u001b[1;33m=\u001b[0m \u001b[0mself\u001b[0m\u001b[1;33m.\u001b[0m\u001b[0mattention\u001b[0m\u001b[1;33m(\u001b[0m\u001b[0mfeatures\u001b[0m\u001b[1;33m,\u001b[0m \u001b[0mh\u001b[0m\u001b[1;33m)\u001b[0m\u001b[1;33m\u001b[0m\u001b[1;33m\u001b[0m\u001b[0m\n\u001b[0m\u001b[0;32m     37\u001b[0m             \u001b[0mlstm_input\u001b[0m \u001b[1;33m=\u001b[0m \u001b[0mtorch\u001b[0m\u001b[1;33m.\u001b[0m\u001b[0mcat\u001b[0m\u001b[1;33m(\u001b[0m\u001b[1;33m(\u001b[0m\u001b[0membeds\u001b[0m\u001b[1;33m[\u001b[0m\u001b[1;33m:\u001b[0m\u001b[1;33m,\u001b[0m \u001b[0ms\u001b[0m\u001b[1;33m]\u001b[0m\u001b[1;33m,\u001b[0m \u001b[0mcontext\u001b[0m\u001b[1;33m)\u001b[0m\u001b[1;33m,\u001b[0m \u001b[0mdim\u001b[0m\u001b[1;33m=\u001b[0m\u001b[1;36m1\u001b[0m\u001b[1;33m)\u001b[0m\u001b[1;33m\u001b[0m\u001b[1;33m\u001b[0m\u001b[0m\n\u001b[0;32m     38\u001b[0m             \u001b[0mh\u001b[0m\u001b[1;33m,\u001b[0m\u001b[0mc\u001b[0m \u001b[1;33m=\u001b[0m \u001b[0mself\u001b[0m\u001b[1;33m.\u001b[0m\u001b[0mlstm_cell\u001b[0m\u001b[1;33m(\u001b[0m\u001b[0mlstm_input\u001b[0m\u001b[1;33m,\u001b[0m \u001b[1;33m(\u001b[0m\u001b[0mh\u001b[0m\u001b[1;33m,\u001b[0m\u001b[0mc\u001b[0m\u001b[1;33m)\u001b[0m\u001b[1;33m)\u001b[0m\u001b[1;33m\u001b[0m\u001b[1;33m\u001b[0m\u001b[0m\n",
      "\u001b[1;32mC:\\MLProjects\\MolecularTranslation\\venv\\lib\\site-packages\\torch\\nn\\modules\\module.py\u001b[0m in \u001b[0;36m_call_impl\u001b[1;34m(self, *input, **kwargs)\u001b[0m\n\u001b[0;32m    887\u001b[0m             \u001b[0mresult\u001b[0m \u001b[1;33m=\u001b[0m \u001b[0mself\u001b[0m\u001b[1;33m.\u001b[0m\u001b[0m_slow_forward\u001b[0m\u001b[1;33m(\u001b[0m\u001b[1;33m*\u001b[0m\u001b[0minput\u001b[0m\u001b[1;33m,\u001b[0m \u001b[1;33m**\u001b[0m\u001b[0mkwargs\u001b[0m\u001b[1;33m)\u001b[0m\u001b[1;33m\u001b[0m\u001b[1;33m\u001b[0m\u001b[0m\n\u001b[0;32m    888\u001b[0m         \u001b[1;32melse\u001b[0m\u001b[1;33m:\u001b[0m\u001b[1;33m\u001b[0m\u001b[1;33m\u001b[0m\u001b[0m\n\u001b[1;32m--> 889\u001b[1;33m             \u001b[0mresult\u001b[0m \u001b[1;33m=\u001b[0m \u001b[0mself\u001b[0m\u001b[1;33m.\u001b[0m\u001b[0mforward\u001b[0m\u001b[1;33m(\u001b[0m\u001b[1;33m*\u001b[0m\u001b[0minput\u001b[0m\u001b[1;33m,\u001b[0m \u001b[1;33m**\u001b[0m\u001b[0mkwargs\u001b[0m\u001b[1;33m)\u001b[0m\u001b[1;33m\u001b[0m\u001b[1;33m\u001b[0m\u001b[0m\n\u001b[0m\u001b[0;32m    890\u001b[0m         for hook in itertools.chain(\n\u001b[0;32m    891\u001b[0m                 \u001b[0m_global_forward_hooks\u001b[0m\u001b[1;33m.\u001b[0m\u001b[0mvalues\u001b[0m\u001b[1;33m(\u001b[0m\u001b[1;33m)\u001b[0m\u001b[1;33m,\u001b[0m\u001b[1;33m\u001b[0m\u001b[1;33m\u001b[0m\u001b[0m\n",
      "\u001b[1;32m<ipython-input-15-d9d8313ac00c>\u001b[0m in \u001b[0;36mforward\u001b[1;34m(self, features, hidden_state)\u001b[0m\n\u001b[0;32m     22\u001b[0m         \u001b[0malpha\u001b[0m \u001b[1;33m=\u001b[0m \u001b[0mF\u001b[0m\u001b[1;33m.\u001b[0m\u001b[0msoftmax\u001b[0m\u001b[1;33m(\u001b[0m\u001b[0mattention_scores\u001b[0m\u001b[1;33m,\u001b[0m \u001b[0mdim\u001b[0m\u001b[1;33m=\u001b[0m\u001b[1;36m1\u001b[0m\u001b[1;33m)\u001b[0m\u001b[1;33m\u001b[0m\u001b[1;33m\u001b[0m\u001b[0m\n\u001b[0;32m     23\u001b[0m \u001b[1;33m\u001b[0m\u001b[0m\n\u001b[1;32m---> 24\u001b[1;33m         \u001b[0mattention_weights\u001b[0m \u001b[1;33m=\u001b[0m \u001b[0mfeatures\u001b[0m\u001b[1;33m*\u001b[0m\u001b[0malpha\u001b[0m\u001b[1;33m.\u001b[0m\u001b[0munsqueeze\u001b[0m\u001b[1;33m(\u001b[0m\u001b[1;36m2\u001b[0m\u001b[1;33m)\u001b[0m\u001b[1;33m\u001b[0m\u001b[1;33m\u001b[0m\u001b[0m\n\u001b[0m\u001b[0;32m     25\u001b[0m         \u001b[0mattention_weights\u001b[0m \u001b[1;33m=\u001b[0m \u001b[0mattention_weights\u001b[0m\u001b[1;33m.\u001b[0m\u001b[0msum\u001b[0m\u001b[1;33m(\u001b[0m\u001b[0mdim\u001b[0m\u001b[1;33m=\u001b[0m\u001b[1;36m1\u001b[0m\u001b[1;33m)\u001b[0m\u001b[1;33m\u001b[0m\u001b[1;33m\u001b[0m\u001b[0m\n\u001b[0;32m     26\u001b[0m \u001b[1;33m\u001b[0m\u001b[0m\n",
      "\u001b[1;31mRuntimeError\u001b[0m: CUDA out of memory. Tried to allocate 20.00 MiB (GPU 0; 4.00 GiB total capacity; 2.70 GiB already allocated; 7.35 MiB free; 2.71 GiB reserved in total by PyTorch)"
     ]
    },
    {
     "data": {
      "image/png": "[encoded data removed]",
      "text/plain": [
       "<Figure size 432x288 with 1 Axes>"
      ]
     },
     "metadata": {
      "needs_background": "light"
     },
     "output_type": "display_data"
    }
   ],
   "source": [
    "num_epochs=25\n",
    "print_every=10\n",
    "iteration = 0\n",
    "loss_func = nn.CrossEntropyLoss()\n",
    "\n",
    "for epoch in tqdm(range(1, num_epochs+1)):\n",
    "    for image, captions in tqdm(dataloader, position=0, leave=True):\n",
    "        #imageTensor, captions = imageTensor.to(device), captions.to(device)\n",
    "        image, captions = image.to(device), captions.to(device)\n",
    "\n",
    "        optimizer.zero_grad()\n",
    "        \n",
    "        outputs, attentions = model(image, captions)\n",
    "        targets = captions[:, 1:]\n",
    "        \n",
    "        loss = loss_func(outputs.view(-1, vocab_size), targets.reshape(-1))\n",
    "        \n",
    "        loss.backward()\n",
    "        \n",
    "        optimizer.step()\n",
    "        \n",
    "        if (iteration + 1) % print_every == 0:\n",
    "            print(\"Epoch: {} loss: {:.5f}\".format(epoch,loss.item()))\n",
    "            \n",
    "            model.eval()\n",
    "            \n",
    "            with torch.no_grad():\n",
    "                dataiter = iter(dataloader)\n",
    "                img, original_captions  = next(dataiter)\n",
    "                features = model.encoder(img[0:1].to(device))\n",
    "                caps, alphas = model.decoder.generate_caption(features, vocab=dataset.vocab)\n",
    "                caption = ''.join(caps)\n",
    "                 \n",
    "                original_caption = [vocab.itos[token_id] for token_id in original_captions[0].numpy() if vocab.itos[token_id] != '<PAD>']\n",
    "                original_caption = ''.join(original_caption)\n",
    "                print(f'Original caption: {original_caption}')\n",
    "                print(f'Generated caption: {caption}')\n",
    "                plt.imshow(img[0].permute(1, 2, 0), cmap='gray')\n",
    "                \n",
    "            model.train()\n",
    "        \n",
    "        iteration += 1\n",
    "            \n",
    "    save_model(model, epoch)"
   ]
  },
  {
   "cell_type": "code",
   "execution_count": null,
   "id": "dc605c25-9e34-4b96-8d93-d009305b1d9b",
   "metadata": {},
   "outputs": [],
   "source": []
  },
  {
   "cell_type": "code",
   "execution_count": null,
   "id": "0ac61e0f-cac5-4f09-84f7-5244ff3647fc",
   "metadata": {},
   "outputs": [],
   "source": []
  },
  {
   "cell_type": "code",
   "execution_count": null,
   "id": "88512eb4-f93a-4ca1-8d1d-455bc8f965cf",
   "metadata": {},
   "outputs": [],
   "source": []
  }
 ],
 "metadata": {
  "kernelspec": {
   "display_name": "Molecular translation SSD",
   "language": "python",
   "name": "venv"
  },
  "language_info": {
   "codemirror_mode": {
    "name": "ipython",
    "version": 3
   },
   "file_extension": ".py",
   "mimetype": "text/x-python",
   "name": "python",
   "nbconvert_exporter": "python",
   "pygments_lexer": "ipython3",
   "version": "3.7.4"
  }
 },
 "nbformat": 4,
 "nbformat_minor": 5
}
